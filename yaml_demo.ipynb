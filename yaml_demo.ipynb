{
 "cells": [
  {
   "cell_type": "markdown",
   "metadata": {},
   "source": [
    "# 1. Writing"
   ]
  },
  {
   "cell_type": "code",
   "execution_count": 1,
   "metadata": {},
   "outputs": [],
   "source": [
    "import yaml \n",
    "import pandas as pd"
   ]
  },
  {
   "cell_type": "code",
   "execution_count": 5,
   "metadata": {},
   "outputs": [
    {
     "name": "stdout",
     "output_type": "stream",
     "text": [
      "a:\n",
      "\n",
      "  a1:\n",
      "\n",
      "  - 3\n",
      "\n",
      "  - 4\n",
      "\n",
      "  - 5\n",
      "\n",
      "  a2:\n",
      "\n",
      "  - 6\n",
      "\n",
      "  - 7\n",
      "\n",
      "  - 8\n",
      "\n",
      "b:\n",
      "\n",
      "  b1:\n",
      "\n",
      "  - 10\n",
      "\n",
      "  - 20\n",
      "\n",
      "  - 30\n",
      "\n",
      "  - 40\n",
      "\n",
      "  b2:\n",
      "\n",
      "  - 50\n",
      "\n",
      "  - 60\n",
      "\n",
      "  - 70\n",
      "\n",
      "  - 80\n",
      "\n",
      "{'a': {'a1': [3, 4, 5], 'a2': [6, 7, 8]},\n",
      " 'b': {'b1': [10, 20, 30, 40], 'b2': [50, 60, 70, 80]}}\n"
     ]
    }
   ],
   "source": [
    "a_dict = {\n",
    "    'a':{\n",
    "        'a1':[3, 4, 5],\n",
    "        'a2':[6, 7, 8],\n",
    "    },\n",
    "    'b':{\n",
    "        'b1':[10, 20, 30, 40],\n",
    "        'b2':[50, 60, 70, 80],\n",
    "    }\n",
    "}\n",
    "with open(\"ab.yaml\", \"w\") as fid:\n",
    "    yaml.dump(a_dict, fid)\n",
    "    \n",
    "with open('ab.yaml', 'r') as fid:\n",
    "    for line in fid:\n",
    "        print(line)\n",
    "        \n",
    "import pprint\n",
    "pprint.pprint(a_dict)"
   ]
  },
  {
   "cell_type": "markdown",
   "metadata": {},
   "source": [
    "# 2. Reading "
   ]
  },
  {
   "cell_type": "code",
   "execution_count": 6,
   "metadata": {},
   "outputs": [
    {
     "name": "stdout",
     "output_type": "stream",
     "text": [
      "{'a': {'a1': [3, 4, 5], 'a2': [6, 7, 8]}, 'b': {'b1': [10, 20, 30, 40], 'b2': [50, 60, 70, 80]}}\n",
      "        a.a1       a.a2              b.b1              b.b2\n",
      "0  [3, 4, 5]  [6, 7, 8]  [10, 20, 30, 40]  [50, 60, 70, 80]\n"
     ]
    }
   ],
   "source": [
    "import yaml \n",
    "import pandas as pd\n",
    "with open('ab.yaml') as f:\n",
    "    data = yaml.load(f, Loader=yaml.FullLoader)\n",
    "    df = pd.json_normalize(data)\n",
    "    print(data)\n",
    "    print(df.head())"
   ]
  }
 ],
 "metadata": {
  "kernelspec": {
   "display_name": "pytorch_1_6",
   "language": "python",
   "name": "pytorch_1_6"
  },
  "language_info": {
   "codemirror_mode": {
    "name": "ipython",
    "version": 3
   },
   "file_extension": ".py",
   "mimetype": "text/x-python",
   "name": "python",
   "nbconvert_exporter": "python",
   "pygments_lexer": "ipython3",
   "version": "3.8.5"
  }
 },
 "nbformat": 4,
 "nbformat_minor": 4
}
