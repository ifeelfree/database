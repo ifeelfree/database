{
 "cells": [
  {
   "cell_type": "markdown",
   "metadata": {},
   "source": [
    "# Use SQLITE3 for SQL database manipulation"
   ]
  },
  {
   "cell_type": "markdown",
   "metadata": {},
   "source": [
    "In this example, we use SQL to set up a table, insert record and finally perform requiery. "
   ]
  },
  {
   "cell_type": "code",
   "execution_count": 5,
   "metadata": {},
   "outputs": [
    {
     "name": "stdout",
     "output_type": "stream",
     "text": [
      "(4, 'James', 'Shroyer')\n",
      "(5, 'Eric', 'Burger')\n",
      "(7, 'Michael', 'Fox')\n",
      "(8, 'Adam', 'Miller')\n",
      "(17, 'Andrew', 'Peck')\n"
     ]
    }
   ],
   "source": [
    "import sqlite3\n",
    "data_person_name = [(7,'Michael', 'Fox'),\n",
    "                    (8,'Adam', 'Miller'),\n",
    "                    (17,'Andrew', 'Peck'),\n",
    "                    (4,'James', 'Shroyer'),\n",
    "                    (5,'Eric', 'Burger')]\n",
    "\n",
    "con = sqlite3.connect(\":memory:\")\n",
    "c = con.cursor()\n",
    "\n",
    "c.execute('''CREATE TABLE q1_person_name\n",
    "             (name_id INTEGER PRIMARY KEY,\n",
    "              first_name varchar(20) NOT NULL,\n",
    "              last_name varchar(20) NOT NULL)''')\n",
    "c.executemany('INSERT INTO q1_person_name(name_id,first_name, last_name) VALUES (?,?,?)', data_person_name)\n",
    "\n",
    "for row in c.execute('SELECT * FROM q1_person_name'):\n",
    "    print(row)\n",
    "    \n",
    "con.close()"
   ]
  }
 ],
 "metadata": {
  "kernelspec": {
   "display_name": "Python 3",
   "language": "python",
   "name": "python3"
  },
  "language_info": {
   "codemirror_mode": {
    "name": "ipython",
    "version": 3
   },
   "file_extension": ".py",
   "mimetype": "text/x-python",
   "name": "python",
   "nbconvert_exporter": "python",
   "pygments_lexer": "ipython3",
   "version": "3.6.12"
  }
 },
 "nbformat": 4,
 "nbformat_minor": 4
}
