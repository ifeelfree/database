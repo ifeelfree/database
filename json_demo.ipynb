{
 "cells": [
  {
   "cell_type": "markdown",
   "metadata": {},
   "source": [
    "# JSON"
   ]
  },
  {
   "cell_type": "markdown",
   "metadata": {},
   "source": [
    "## 1. Writing "
   ]
  },
  {
   "cell_type": "markdown",
   "metadata": {},
   "source": [
    "(1) dump"
   ]
  },
  {
   "cell_type": "code",
   "execution_count": 1,
   "metadata": {},
   "outputs": [],
   "source": [
    "import json  \n",
    "data = {'sur_name':'ma',\n",
    "        'given_name':'yun',\n",
    "        'natiality':'China',\n",
    "        'born_in':1956\n",
    "       }\n",
    "with open('data.json', 'w') as outfile:     \n",
    "   json.dump(data, outfile) "
   ]
  },
  {
   "cell_type": "markdown",
   "metadata": {},
   "source": [
    "(2) dumps"
   ]
  },
  {
   "cell_type": "code",
   "execution_count": 4,
   "metadata": {},
   "outputs": [],
   "source": [
    "import json  \n",
    "data = {'sur_name':'ma',\n",
    "        'given_name':'yun',\n",
    "        'natiality':'China',\n",
    "        'born_in':1956\n",
    "       }\n",
    "s = json.dumps(data) # become string\n",
    "with open(\"my_data.json\", \"w\") as fid:\n",
    "    fid.write(s)"
   ]
  },
  {
   "cell_type": "markdown",
   "metadata": {},
   "source": [
    "## 2. Reading"
   ]
  },
  {
   "cell_type": "markdown",
   "metadata": {},
   "source": [
    "(1) load"
   ]
  },
  {
   "cell_type": "code",
   "execution_count": 3,
   "metadata": {},
   "outputs": [
    {
     "name": "stdout",
     "output_type": "stream",
     "text": [
      "{'born_in': 1956, 'given_name': 'yun', 'natiality': 'China', 'sur_name': 'ma'}\n"
     ]
    }
   ],
   "source": [
    "import json  \n",
    "with open('data.json') as json_file:     \n",
    "     data2 = json.load(json_file)\n",
    "import pprint\n",
    "pprint.pprint(data2)"
   ]
  },
  {
   "cell_type": "markdown",
   "metadata": {},
   "source": [
    "(2) loads"
   ]
  },
  {
   "cell_type": "code",
   "execution_count": 5,
   "metadata": {},
   "outputs": [
    {
     "name": "stdout",
     "output_type": "stream",
     "text": [
      "{'born_in': 1956, 'given_name': 'yun', 'natiality': 'China', 'sur_name': 'ma'}\n"
     ]
    }
   ],
   "source": [
    "import json  \n",
    "with open('my_data.json') as json_file:     \n",
    "     data2 = json.loads(json_file.read())\n",
    "import pprint\n",
    "pprint.pprint(data2)"
   ]
  }
 ],
 "metadata": {
  "kernelspec": {
   "display_name": "Python 3",
   "language": "python",
   "name": "python3"
  },
  "language_info": {
   "codemirror_mode": {
    "name": "ipython",
    "version": 3
   },
   "file_extension": ".py",
   "mimetype": "text/x-python",
   "name": "python",
   "nbconvert_exporter": "python",
   "pygments_lexer": "ipython3",
   "version": "3.6.12"
  }
 },
 "nbformat": 4,
 "nbformat_minor": 4
}
